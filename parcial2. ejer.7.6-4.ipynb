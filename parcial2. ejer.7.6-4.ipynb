{
 "cells": [
  {
   "cell_type": "markdown",
   "metadata": {},
   "source": [
    "# PROBLEMA 4 "
   ]
  },
  {
   "cell_type": "markdown",
   "metadata": {},
   "source": [
    "La figura presenta datos experimentales reales sobre el número de desintegraciones $\\Delta N$ del mesón π en función del tiempo (Stetz et al., 1973). Observe que el tiempo se ha \"agrupado\" en intervalos $\\Delta t = 10$ ns y que la curva suave es la disminución teórica exponencial esperada para un gran número de piones (que no existe). Su problema es deducir la vida útil τ del mesón π a partir de estos datos (la vida útil tabulada del pión es $2.6 × 10 −8$ s).\n",
    "\n",
    "\n",
    "\n",
    "<img src=\"metodos.png\"> \n",
    "\n",
    "Teoría Supongamos que comenzamos con $N_{0}$ partículas en el tiempo $t = 0$ que pueden descomponerse en otras partículas. Si esperamos un corto tiempo $Δt$, entonces un pequeño número $ΔN$ de las partículas decaerá espontáneamente, es decir, sin influencias externas. Esta descomposición es un proceso estocástico, lo que significa que hay un elemento de azar involucrado en cuándo ocurrirá una descomposición, por lo que no se espera que dos experimentos den exactamente los mismos resultados. La ley básica de la naturaleza para la descomposición espontánea es que el número de desintegraciones ΔN en un intervalo de tiempo Δt es proporcional al número de partículas N (t) presentes en ese momento y al intervalo de tiempo\n",
    "\n",
    "\\begin{equation*}\n",
    "\\Delta N(t)=-\\frac{1}{\\tau}N(t)\\Delta t\\rightarrow \\frac{\\Delta N(t)}{\\Delta t}=-\\lambda N(t)             \n",
    "\\end{equation*}\n",
    "\n",
    "Aquí $τ = 1 ∕ λ$ es la vida útil de la partícula, con $λ$ el parámetro de velocidad. La tasa de desintegración real viene dada por la segunda ecuación en (7.38). Si el número de desintegraciones $ΔN$ es muy pequeño en comparación con el número de partículas N, y si observamos intervalos de tiempo muy pequeños, la ecuación de diferencia (7.38) se convierte en la ecuación diferencial.\n",
    "\n",
    "\\begin{equation*}\n",
    "\\frac{dN(t)}{dt} \\simeq -\\lambda N(t)=\\frac{1}{\\tau}N(t)\n",
    "\\end{equation*}\n",
    "\n",
    "Esta ecuación diferencial tiene una solución exponencial tanto para el número como para la tasa de desintegración:\n",
    "\n",
    "\\begin{equation*}\n",
    "N(t)= N_{0}e^{\\frac{-t}{\\tau }}\n",
    "\\end{equation*}\n",
    "\n",
    "\\begin{equation*}\n",
    "\\frac{dN(t)}{dt}=-\\frac{N_{0}}{\\tau }e^{\\frac{-t}{\\tau }}=\\frac{dN(0)}{dt}e^{\\frac{-t}{\\tau }}\n",
    "\\end{equation*}\n",
    "\n",
    "La ecuación anterior es la fórmula teórica que deseamos \"ajustar\" a los datos de la figura anterior. La salida de tal ajuste es un \"mejor valor\" para la vida útil $τ$."
   ]
  },
  {
   "cell_type": "code",
   "execution_count": 1,
   "metadata": {},
   "outputs": [],
   "source": [
    "from numpy import arange, loadtxt\n",
    "import numpy as np\n",
    "import matplotlib.pyplot as plt\n",
    "from math import cos,sin,pi\n",
    "from pylab import imshow, figure, title\n",
    "from pylab import plot, show, legend, xlabel, ylabel, title, grid"
   ]
  },
  {
   "cell_type": "code",
   "execution_count": 2,
   "metadata": {},
   "outputs": [],
   "source": [
    "data = open(\"pion_decay_rubin.dat\") # abro el archivo donde está el valor de t en la primera \n",
    "#columna  y el valor de N en la segunda columna"
   ]
  },
  {
   "cell_type": "code",
   "execution_count": 3,
   "metadata": {},
   "outputs": [],
   "source": [
    "#creacion de posiciones para t y N\n",
    "\n",
    "t=[] #tiempo\n",
    "N=[] # decaimiento\n",
    "\n",
    "# lectura de los datos de pion_decay_rubin\n",
    "for line in data:\n",
    "    rline = line.rstrip('\\n').split()\n",
    "    if len(rline) == 2:\n",
    "        if rline[0] != \"//\":\n",
    "            t.append(float(rline[0]))\n",
    "            N.append(float(rline[1]))\n",
    "\n",
    "# vuelvo la lista un arreglo para mejor  manipulación\n",
    "t = np.array(t)\n",
    "N = np.array(N)"
   ]
  },
  {
   "cell_type": "code",
   "execution_count": 4,
   "metadata": {},
   "outputs": [
    {
     "data": {
      "image/png": "[encoded data removed]",
      "text/plain": [
       "<Figure size 432x288 with 1 Axes>"
      ]
     },
     "metadata": {
      "needs_background": "light"
     },
     "output_type": "display_data"
    }
   ],
   "source": [
    "plt.plot(N,t,'o')\n",
    "plt.ylabel('Decaimiento')\n",
    "plt.title('Decaimiento vs Tiempo')\n",
    "plt.xlabel('tiempo[ns]')\n",
    "plt.show()"
   ]
  },
  {
   "cell_type": "code",
   "execution_count": 5,
   "metadata": {},
   "outputs": [],
   "source": [
    "from scipy.optimize import curve_fit"
   ]
  },
  {
   "cell_type": "code",
   "execution_count": 6,
   "metadata": {},
   "outputs": [],
   "source": [
    "def f_line(x,a,b):\n",
    "    return a*x + b"
   ]
  },
  {
   "cell_type": "code",
   "execution_count": 7,
   "metadata": {},
   "outputs": [],
   "source": [
    "popt, pcov = curve_fit(f_line, t, N)\n"
   ]
  },
  {
   "cell_type": "code",
   "execution_count": 8,
   "metadata": {},
   "outputs": [
    {
     "data": {
      "image/png": "[encoded data removed]",
      "text/plain": [
       "<Figure size 432x288 with 1 Axes>"
      ]
     },
     "metadata": {
      "needs_background": "light"
     },
     "output_type": "display_data"
    }
   ],
   "source": [
    "plt.plot(t, N, 'o')\n",
    "plt.plot(t, f_line(t, *popt), '-')\n",
    "plt.show()"
   ]
  },
  {
   "cell_type": "code",
   "execution_count": null,
   "metadata": {},
   "outputs": [],
   "source": []
  }
 ],
 "metadata": {
  "kernelspec": {
   "display_name": "Python 3",
   "language": "python",
   "name": "python3"
  },
  "language_info": {
   "codemirror_mode": {
    "name": "ipython",
    "version": 3
   },
   "file_extension": ".py",
   "mimetype": "text/x-python",
   "name": "python",
   "nbconvert_exporter": "python",
   "pygments_lexer": "ipython3",
   "version": "3.5.2"
  }
 },
 "nbformat": 4,
 "nbformat_minor": 2
}

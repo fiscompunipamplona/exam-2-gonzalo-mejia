{
 "cells": [
  {
   "cell_type": "markdown",
   "metadata": {},
   "source": [
    "# PROBLEMA 4 "
   ]
  },
  {
   "cell_type": "markdown",
   "metadata": {},
   "source": [
    "La figura presenta datos experimentales reales sobre el número de desintegraciones $\\Delta N$ del mesón π en función del tiempo (Stetz et al., 1973). Observe que el tiempo se ha \"agrupado\" en intervalos $\\Delta t = 10$ ns y que la curva suave es la disminución teórica exponencial esperada para un gran número de piones (que no existe). Su problema es deducir la vida útil τ del mesón π a partir de estos datos (la vida útil tabulada del pión es $2.6 × 10 −8$ s).\n",
    "\n",
    "\n",
    "\n",
    "<img src=\"metodos.png\"> \n",
    "\n",
    "Teoría Supongamos que comenzamos con $N_{0}$ partículas en el tiempo $t = 0$ que pueden descomponerse en otras partículas. Si esperamos un corto tiempo $Δt$, entonces un pequeño número $ΔN$ de las partículas decaerá espontáneamente, es decir, sin influencias externas. Esta descomposición es un proceso estocástico, lo que significa que hay un elemento de azar involucrado en cuándo ocurrirá una descomposición, por lo que no se espera que dos experimentos den exactamente los mismos resultados. La ley básica de la naturaleza para la descomposición espontánea es que el número de desintegraciones ΔN en un intervalo de tiempo Δt es proporcional al número de partículas N (t) presentes en ese momento y al intervalo de tiempo\n",
    "\n",
    "\\begin{equation*}\n",
    "\\Delta N(t)=-\\frac{1}{\\tau}N(t)\\Delta t\\rightarrow \\frac{\\Delta N(t)}{\\Delta t}=-\\lambda N(t)             \n",
    "\\end{equation*}\n",
    "\n",
    "Aquí $τ = 1 ∕ λ$ es la vida útil de la partícula, con $λ$ el parámetro de velocidad. La tasa de desintegración real viene dada por la segunda ecuación en (7.38). Si el número de desintegraciones $ΔN$ es muy pequeño en comparación con el número de partículas N, y si observamos intervalos de tiempo muy pequeños, la ecuación de diferencia (7.38) se convierte en la ecuación diferencial.\n",
    "\n",
    "\\begin{equation*}\n",
    "\\frac{dN(t)}{dt} \\simeq -\\lambda N(t)=\\frac{1}{\\tau}N(t)\n",
    "\\end{equation*}\n",
    "\n",
    "Esta ecuación diferencial tiene una solución exponencial tanto para el número como para la tasa de desintegración:\n",
    "\n",
    "\\begin{equation*}\n",
    "N(t)= N_{0}e^{\\frac{-t}{\\tau }}\n",
    "\\end{equation*}\n",
    "\n",
    "\\begin{equation*}\n",
    "\\frac{dN(t)}{dt}=-\\frac{N_{0}}{\\tau }e^{\\frac{-t}{\\tau }}=\\frac{dN(0)}{dt}e^{\\frac{-t}{\\tau }}\n",
    "\\end{equation*}\n",
    "\n",
    "La ecuación anterior es la fórmula teórica que deseamos \"ajustar\" a los datos de la figura anterior. La salida de tal ajuste es un \"mejor valor\" para la vida útil $τ$."
   ]
  },
  {
   "cell_type": "code",
   "execution_count": 13,
   "metadata": {},
   "outputs": [],
   "source": [
    "from numpy import arange, loadtxt, log, sqrt\n",
    "import numpy as np\n",
    "import matplotlib.pyplot as plt\n",
    "from math import cos,sin,pi\n",
    "from pylab import imshow, figure, title\n",
    "from pylab import plot, show, legend, xlabel, ylabel, title, grid"
   ]
  },
  {
   "cell_type": "markdown",
   "metadata": {},
   "source": [
    "# RESULTADO PARA LOS PRIMEROS DATOS"
   ]
  },
  {
   "cell_type": "code",
   "execution_count": 2,
   "metadata": {},
   "outputs": [],
   "source": [
    "data = loadtxt('pion_decay_rubin.dat', comments=\"//\") # abro el archivo donde está el valor de t en la primera \n",
    "#columna y el valor de N en la segunda columna"
   ]
  },
  {
   "cell_type": "code",
   "execution_count": 3,
   "metadata": {},
   "outputs": [
    {
     "data": {
      "image/png": "[encoded data removed]",
      "text/plain": [
       "<Figure size 432x288 with 1 Axes>"
      ]
     },
     "metadata": {
      "needs_background": "light"
     },
     "output_type": "display_data"
    }
   ],
   "source": [
    "plt.plot(data[:,0], data[:,1], 'o', label='data')\n",
    "legend(loc='lower left')\n",
    "plt.ylabel('Decaimiento [N]')\n",
    "plt.title('Decaimiento vs Tiempo')\n",
    "plt.xlabel('tiempo[ns]')\n",
    "plt.show()"
   ]
  },
  {
   "cell_type": "markdown",
   "metadata": {},
   "source": [
    "Se busca hallar el tiempo de vida util para los datos encontrados experimentalmente, para ello se parte del modelo planteado inicialmente.\n",
    "\n",
    "Graficando los datos del logaritmo del decaimiento en función del tiempo, para optener una función lineal análoga a:\n",
    "\n",
    "\\begin{equation} \n",
    "ln(N)=N_{0} -\\frac{t}{\\tau }     \n",
    "\\end{equation}"
   ]
  },
  {
   "cell_type": "code",
   "execution_count": 4,
   "metadata": {},
   "outputs": [
    {
     "data": {
      "image/png": "[encoded data removed]",
      "text/plain": [
       "<Figure size 432x288 with 1 Axes>"
      ]
     },
     "metadata": {
      "needs_background": "light"
     },
     "output_type": "display_data"
    }
   ],
   "source": [
    "plt.plot(data[:,0], log(data[:,1]),'o', label='data')\n",
    "legend(loc='lower left')\n",
    "plt.ylabel('Decaimiento [N]')\n",
    "plt.title('Decaimiento vs Tiempo')\n",
    "plt.xlabel('tiempo[ns]')\n",
    "plt.show()"
   ]
  },
  {
   "cell_type": "markdown",
   "metadata": {},
   "source": [
    "Con el método de regresión lineal por mínimos cuadrado hayamos la recta que se ajusta a los datos. Con los datos de la regresión lineal encontramos los parámetros de una recta: la pendiente a y el intercepto b, con los cuales definimos una función lineal y  la graficamos junto con los datos.\n",
    "\n",
    "\\begin{equation} \n",
    "y=b+ax \n",
    "\\end{equation} "
   ]
  },
  {
   "cell_type": "code",
   "execution_count": 10,
   "metadata": {},
   "outputs": [],
   "source": [
    "def Mincu(dat):\n",
    "    n = len(dat[:,0])\n",
    "    err = sqrt(n)\n",
    "    \n",
    "    s = 0\n",
    "    sx = 0\n",
    "    sy = 0\n",
    "    sxx = 0\n",
    "    sxy = 0\n",
    "    delta = 0\n",
    "\n",
    "    for i in range(n):\n",
    "        s += 1/(err*err)\n",
    "        sx += dat[i,0]\n",
    "        sy += log(dat[i,1])\n",
    "        sxx += (dat[i,0]*dat[i,0] )   \n",
    "        sxy += (dat[i,0]*log(dat[i,1]) )\n",
    "    \n",
    "    sx /= (err*err)\n",
    "    sy /= (err*err)\n",
    "    sxx /= (err*err)\n",
    "    sxy /= (err*err)\n",
    "\n",
    "    delta = s*sxx - (sx*sx)\n",
    "\n",
    "    b = (sxx*sy - sx*sxy) / delta  #intercepto\n",
    "    a = (s*sxy - sx*sy) / delta    #pendiente\n",
    "\n",
    "    return a,b\n",
    "\n"
   ]
  },
  {
   "cell_type": "code",
   "execution_count": 14,
   "metadata": {},
   "outputs": [
    {
     "name": "stdout",
     "output_type": "stream",
     "text": [
      "a= -0.03159701673833026 [ns]^-1\n",
      "b= 3.611024907430632\n"
     ]
    }
   ],
   "source": [
    "a,b=Mincu(data)\n",
    "\n",
    "Y = [ (a*i+b) for i in data[:,0] ]\n",
    "\n",
    "print(\"a=\", a,\"[ns]^-1\")\n",
    "print(\"b=\", b,)"
   ]
  },
  {
   "cell_type": "code",
   "execution_count": 17,
   "metadata": {},
   "outputs": [
    {
     "data": {
      "image/png": "[encoded data removed]",
      "text/plain": [
       "<Figure size 432x288 with 1 Axes>"
      ]
     },
     "metadata": {
      "needs_background": "light"
     },
     "output_type": "display_data"
    }
   ],
   "source": [
    "plt.plot(data[:,0], log(data[:,1]), 'o', label=\"ln(data)\")\n",
    "plt.plot(data[:,0], Y, 'y-', label=\"ajuste\")\n",
    "legend(loc='lower left')\n",
    "plt.ylabel('Decaimiento [N]')\n",
    "plt.title('Regresion lineal del modelo')\n",
    "plt.xlabel('tiempo[ns]')\n",
    "plt.show()"
   ]
  },
  {
   "cell_type": "markdown",
   "metadata": {},
   "source": [
    "Para calcular el valor de vida util, podemos comprar ambas ecuaciones y observar que $\\tau$ debería corresponde al inverso de la pendiente  de la función hallada con la regresión lineal\n",
    "\n",
    "\n",
    "\\begin{equation} \n",
    "ln(N)=N_{0}-\\frac{t}{\\tau }      \n",
    "\\end{equation}\n",
    "\n",
    "\\begin{equation} \n",
    "Y=b+ax    \n",
    "\\end{equation}\n",
    "\n",
    "\\begin{equation} \n",
    "  \\tau= - \\frac{1}{a}   \n",
    "\\end{equation}"
   ]
  },
  {
   "cell_type": "code",
   "execution_count": 21,
   "metadata": {},
   "outputs": [
    {
     "name": "stdout",
     "output_type": "stream",
     "text": [
      "tao= 3.164855746608833e-08 segundos\n",
      "error1= 21.725221023416655 %\n"
     ]
    }
   ],
   "source": [
    "tao=-(1/a)*1e-9\n",
    "print(\"tao=\",tao,\"segundos\")\n",
    "\n",
    "\n",
    "Tteo= 2.6*1e-8\n",
    "\n",
    "Er= abs((Tteo-tao)/Tteo)*100\n",
    "print(\"error1=\",Er,\"%\")"
   ]
  },
  {
   "cell_type": "markdown",
   "metadata": {},
   "source": [
    "Este tiempo de vida media hallado con estos datos experimentales, se contrasta con los $2.6e(-08)s$ que se esperaban, se encuentra que el resultado está en el orden de magnitud esperado pero con un $21$% de error.\n",
    "\n",
    "\n",
    "Para verificar el programa, se usa el modelo de regresión lineal de curve_fit y se obtienen los siguientes resultados:"
   ]
  },
  {
   "cell_type": "code",
   "execution_count": 24,
   "metadata": {},
   "outputs": [],
   "source": [
    "from scipy.optimize import curve_fit\n",
    "from numpy import exp as npexp"
   ]
  },
  {
   "cell_type": "code",
   "execution_count": 25,
   "metadata": {},
   "outputs": [],
   "source": [
    "def f_exp(x, m, n):\n",
    "    return n*npexp(m*x)\n",
    "\n",
    "popt, pcov = curve_fit(f_exp, data[:,0], data[:,1],[0,0])"
   ]
  },
  {
   "cell_type": "code",
   "execution_count": 26,
   "metadata": {},
   "outputs": [
    {
     "data": {
      "image/png": "[encoded data removed]",
      "text/plain": [
       "<Figure size 432x288 with 1 Axes>"
      ]
     },
     "metadata": {
      "needs_background": "light"
     },
     "output_type": "display_data"
    }
   ],
   "source": [
    "plt.plot(data[:,0], data[:,1], 'o', label=\"data\")\n",
    "plt.plot(data[:,0], f_exp(data[:,0], *popt), label=\"exp\")\n",
    "legend(loc='lower left')\n",
    "plt.ylabel('Decaimiento [N]')\n",
    "plt.title('Regresion lineal del modelo')\n",
    "plt.xlabel('tiempo[ns]')\n",
    "plt.show()\n",
    "\n"
   ]
  },
  {
   "cell_type": "markdown",
   "metadata": {},
   "source": [
    "Nuevamente para calcular el valor de la vida util comparamos las ecuaciones exponenciales:\n",
    "\n",
    "\\begin{equation}\n",
    " N(t)=N_{o}e^{-\\frac{t}{\\tau}}   \n",
    "\\end{equation}\n",
    "\n",
    "\\begin{equation}\n",
    " Y=be^{mx}   \n",
    "\\end{equation}\n",
    "\n",
    "Por tanto:\n",
    "\n",
    "\\begin{equation}\n",
    " \\tau=-\\frac{1}{m} \n",
    "\\end{equation}"
   ]
  },
  {
   "cell_type": "code",
   "execution_count": 47,
   "metadata": {},
   "outputs": [
    {
     "name": "stdout",
     "output_type": "stream",
     "text": [
      "tao1= 2.9742770853746504e-08 segundos\n",
      "error= 14.395272514409625 %\n"
     ]
    }
   ],
   "source": [
    "m=popt[0] # valor optimo del parametro m \n",
    "tao1=(-1/m)*1e-9\n",
    "print(\"tao1=\",tao1,\"segundos\")\n",
    "\n",
    "Er1= abs((Tteo-tao1)/Tteo)*100\n",
    "print(\"error=\",Er1,\"%\")"
   ]
  },
  {
   "cell_type": "markdown",
   "metadata": {},
   "source": [
    "Con respecto al modelo de regresión lineal de curve_fit se obtuvo un $14.3$% de error, por lo que se puede concluir a priori que se necesitan más datos para realizar una mejor aproximación usando la regresión lineal"
   ]
  },
  {
   "cell_type": "markdown",
   "metadata": {},
   "source": [
    "# RESULTADO PARA LOS SEGUNDOS DATOS"
   ]
  },
  {
   "cell_type": "markdown",
   "metadata": {},
   "source": [
    "Para el resultado de esta segunda parte vamos a realizar el mismo procedimiento que en la primera parte, en este caso solo cambiaremos los datos a evaluar de resto todo es similar, por tanto solo se escribira el codigo con el objetivo de no volver a escribir lo mismo."
   ]
  },
  {
   "cell_type": "code",
   "execution_count": 32,
   "metadata": {},
   "outputs": [],
   "source": [
    "data1 = loadtxt('decayPiMeson.dat', comments=\"//\") # abro el archivo donde está el valor de t en la primera \n",
    "#columna y el valor de N en la segunda columna"
   ]
  },
  {
   "cell_type": "code",
   "execution_count": 33,
   "metadata": {},
   "outputs": [
    {
     "data": {
      "image/png": "[encoded data removed]",
      "text/plain": [
       "<Figure size 432x288 with 1 Axes>"
      ]
     },
     "metadata": {
      "needs_background": "light"
     },
     "output_type": "display_data"
    }
   ],
   "source": [
    "plt.plot(data1[:,0], data1[:,1], 'o', label='data1')\n",
    "legend(loc='lower left')\n",
    "plt.ylabel('Decaimiento [N]')\n",
    "plt.title('Decaimiento vs Tiempo')\n",
    "plt.xlabel('tiempo[ns]')\n",
    "plt.show()"
   ]
  },
  {
   "cell_type": "code",
   "execution_count": 35,
   "metadata": {},
   "outputs": [
    {
     "data": {
      "image/png": "[encoded data removed]",
      "text/plain": [
       "<Figure size 432x288 with 1 Axes>"
      ]
     },
     "metadata": {
      "needs_background": "light"
     },
     "output_type": "display_data"
    }
   ],
   "source": [
    "plt.plot(data1[:,0], log(data1[:,1]),'o', label='data1')\n",
    "legend(loc='lower left')\n",
    "plt.ylabel('Decaimiento [N]')\n",
    "plt.title('Decaimiento vs Tiempo')\n",
    "plt.xlabel('tiempo[ns]')\n",
    "plt.show()"
   ]
  },
  {
   "cell_type": "code",
   "execution_count": 36,
   "metadata": {},
   "outputs": [],
   "source": [
    "def Mincu(dat):\n",
    "    n = len(dat[:,0])\n",
    "    err = sqrt(n)\n",
    "    \n",
    "    s = 0\n",
    "    sx = 0\n",
    "    sy = 0\n",
    "    sxx = 0\n",
    "    sxy = 0\n",
    "    delta = 0\n",
    "\n",
    "    for i in range(n):\n",
    "        s += 1/(err*err)\n",
    "        sx += dat[i,0]\n",
    "        sy += log(dat[i,1])\n",
    "        sxx += (dat[i,0]*dat[i,0] )   \n",
    "        sxy += (dat[i,0]*log(dat[i,1]) )\n",
    "    \n",
    "    sx /= (err*err)\n",
    "    sy /= (err*err)\n",
    "    sxx /= (err*err)\n",
    "    sxy /= (err*err)\n",
    "\n",
    "    delta = s*sxx - (sx*sx)\n",
    "\n",
    "    b = (sxx*sy - sx*sxy) / delta  #intercepto\n",
    "    a = (s*sxy - sx*sy) / delta    #pendiente\n",
    "\n",
    "    return a,b"
   ]
  },
  {
   "cell_type": "code",
   "execution_count": 37,
   "metadata": {},
   "outputs": [
    {
     "name": "stdout",
     "output_type": "stream",
     "text": [
      "a1= -0.028120744167616542 [ns]^-1\n",
      "b1= 3.334200262407691\n"
     ]
    }
   ],
   "source": [
    "a1,b1=Mincu(data)\n",
    "\n",
    "Y1 = [ (a1*i+b1) for i in data1[:,0] ]\n",
    "\n",
    "print(\"a1=\", a1,\"[ns]^-1\")\n",
    "print(\"b1=\", b1,)"
   ]
  },
  {
   "cell_type": "code",
   "execution_count": 38,
   "metadata": {},
   "outputs": [
    {
     "data": {
      "image/png": "[encoded data removed]",
      "text/plain": [
       "<Figure size 432x288 with 1 Axes>"
      ]
     },
     "metadata": {
      "needs_background": "light"
     },
     "output_type": "display_data"
    }
   ],
   "source": [
    "plt.plot(data1[:,0], log(data1[:,1]), 'o', label=\"ln(data1)\")\n",
    "plt.plot(data1[:,0], Y1, 'y-', label=\"ajuste1\")\n",
    "legend(loc='lower left')\n",
    "plt.ylabel('Decaimiento [N]')\n",
    "plt.title('Regresion lineal del modelo')\n",
    "plt.xlabel('tiempo[ns]')\n",
    "plt.show()"
   ]
  },
  {
   "cell_type": "code",
   "execution_count": 46,
   "metadata": {},
   "outputs": [
    {
     "name": "stdout",
     "output_type": "stream",
     "text": [
      "tao1= 3.556093658259536e-08 segundos\n",
      "error= 36.77283300998214 %\n"
     ]
    }
   ],
   "source": [
    "tao1=-(1/a1)*1e-9\n",
    "print(\"tao1=\",tao1,\"segundos\")\n",
    "\n",
    "\n",
    "Tteo= 2.6*1e-8\n",
    "\n",
    "Er1= abs((Tteo-tao1)/Tteo)*100\n",
    "print(\"error=\",Er1,\"%\")"
   ]
  },
  {
   "cell_type": "markdown",
   "metadata": {},
   "source": [
    "Este tiempo de vida media hallado con estos datos experimentales, se contrasta con los $2.6e(-08)s$ que se esperaban, se encuentra que el resultado está en el orden de magnitud esperado pero con un $36.77$% de error.\n",
    "\n",
    "\n",
    "Para verificar el programa, se usa el modelo de regresión lineal de curve_fit y se obtienen los siguientes resultados:"
   ]
  },
  {
   "cell_type": "code",
   "execution_count": 41,
   "metadata": {},
   "outputs": [],
   "source": [
    "from scipy.optimize import curve_fit\n",
    "from numpy import exp as npexp"
   ]
  },
  {
   "cell_type": "code",
   "execution_count": 42,
   "metadata": {},
   "outputs": [],
   "source": [
    "def f_exp(x, m, n):\n",
    "    return n*npexp(m*x)\n",
    "\n",
    "popt1, pcov1 = curve_fit(f_exp, data1[:,0], data1[:,1],[0,0])"
   ]
  },
  {
   "cell_type": "code",
   "execution_count": 43,
   "metadata": {},
   "outputs": [
    {
     "data": {
      "image/png": "[encoded data removed]",
      "text/plain": [
       "<Figure size 432x288 with 1 Axes>"
      ]
     },
     "metadata": {
      "needs_background": "light"
     },
     "output_type": "display_data"
    }
   ],
   "source": [
    "plt.plot(data1[:,0], data1[:,1], 'o', label=\"data1\")\n",
    "plt.plot(data1[:,0], f_exp(data1[:,0], *popt1), label=\"exp1\")\n",
    "legend(loc='lower left')\n",
    "plt.ylabel('Decaimiento [N]')\n",
    "plt.title('Regresion lineal del modelo')\n",
    "plt.xlabel('tiempo[ns]')\n",
    "plt.show()"
   ]
  },
  {
   "cell_type": "code",
   "execution_count": 48,
   "metadata": {},
   "outputs": [
    {
     "name": "stdout",
     "output_type": "stream",
     "text": [
      "tao2= 3.364653150794722e-08 segundos\n",
      "error= 29.409736569027757 %\n"
     ]
    }
   ],
   "source": [
    "m1=popt1[0] # valor optimo del parametro m \n",
    "tao2=(-1/m1)*1e-9\n",
    "print(\"tao2=\",tao2,\"segundos\")\n",
    "\n",
    "Er2= abs((Tteo-tao2)/Tteo)*100\n",
    "print(\"error=\",Er2,\"%\")"
   ]
  },
  {
   "cell_type": "markdown",
   "metadata": {},
   "source": [
    "Nuevamente podemos decir que con respecto al modelo de regresión lineal de curve_fit se obtuvo un $29.4$% de error, por lo que se puede concluir a priori que se necesitan más datos para realizar una mejor aproximación usando la regresión lineal"
   ]
  },
  {
   "cell_type": "code",
   "execution_count": null,
   "metadata": {},
   "outputs": [],
   "source": []
  }
 ],
 "metadata": {
  "kernelspec": {
   "display_name": "Python 3",
   "language": "python",
   "name": "python3"
  },
  "language_info": {
   "codemirror_mode": {
    "name": "ipython",
    "version": 3
   },
   "file_extension": ".py",
   "mimetype": "text/x-python",
   "name": "python",
   "nbconvert_exporter": "python",
   "pygments_lexer": "ipython3",
   "version": "3.5.2"
  }
 },
 "nbformat": 4,
 "nbformat_minor": 2
}

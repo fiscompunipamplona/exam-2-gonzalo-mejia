{
 "cells": [
  {
   "cell_type": "markdown",
   "metadata": {},
   "source": [
    "# Sección 7.8\n",
    "\n",
    "EJERCICIO 3.\n",
    "\n",
    "En 1929, Edwin Hubble examinó los datos que relacionan la velocidad radial v de 24 nebulosas galácticas con su distancia r de nuestra galaxia . Aunque hubo una dispersión considerable en los datos, los ajustó con una línea recta:\n",
    "\n",
    "\\begin{equation}\n",
    "v=Hr\n",
    "\\end{equation}\n",
    "\n",
    "Donde H se llama la constante de Hubble. \n",
    "\n",
    "La siguiente tabla contiene las distancias y velocidades utilizadas por Hubble.\n",
    "\n",
    "<img src=\"metodos3.png\"> \n",
    "\n",
    "En la tabla podemos observar la distancia vs. velocidad radial para 24 nebulosas extragalácticas.\n",
    "\n"
   ]
  },
  {
   "cell_type": "markdown",
   "metadata": {},
   "source": [
    "a) Graficar los datos para verificar la adecuación de una relación lineal.\n",
    "\n",
    "\\begin{equation}\n",
    "v(r)\\simeq  a + Hr\n",
    "\\end{equation}\n",
    "\n"
   ]
  },
  {
   "cell_type": "markdown",
   "metadata": {},
   "source": [
    "Primero procedimos a sacar los datos de la tabla y los guardamos en un archivo txt, esto con el objetivo de llamarlos para luego ser graficados"
   ]
  },
  {
   "cell_type": "code",
   "execution_count": 1,
   "metadata": {},
   "outputs": [],
   "source": [
    "from numpy import loadtxt, log, sqrt\n",
    "import matplotlib.pyplot as plt\n",
    "from matplotlib.pyplot import legend\n",
    "import numpy as np\n",
    "from pylab import imshow, figure, title\n",
    "from pylab import plot, show, legend, xlabel, ylabel, title, grid"
   ]
  },
  {
   "cell_type": "code",
   "execution_count": 12,
   "metadata": {},
   "outputs": [],
   "source": [
    "data = loadtxt('Hubble.txt', comments=\"//\") # abro el archivo donde está el valor de la distancia en la primera \n",
    "#columna  y el valor de la velocidad radial en la segunda columna\n"
   ]
  },
  {
   "cell_type": "code",
   "execution_count": 13,
   "metadata": {},
   "outputs": [
    {
     "name": "stderr",
     "output_type": "stream",
     "text": [
      "No handles with labels found to put in legend.\n"
     ]
    },
    {
     "data": {
      "image/png": "[encoded data removed]",
      "text/plain": [
       "<Figure size 432x288 with 1 Axes>"
      ]
     },
     "metadata": {
      "needs_background": "light"
     },
     "output_type": "display_data"
    }
   ],
   "source": [
    "#creacion de posiciones para r y v\n",
    "\n",
    "plt.plot(data[:,0], data[:,1], 'o')\n",
    "legend(loc='lower left')\n",
    "plt.title('Distancia vs Velocidad radial')\n",
    "plt.xlabel('radio [Mpc]')\n",
    "plt.ylabel('velocidad [km/s]')\n",
    "plt.show()"
   ]
  },
  {
   "cell_type": "markdown",
   "metadata": {},
   "source": [
    "En la grafica anterior (Distancia vs Velocidad radial) podemos observar que los datos son muy dispersos, por esta razon no seria muy adecuado una relación lineal."
   ]
  },
  {
   "cell_type": "markdown",
   "metadata": {},
   "source": [
    "b) Debido a que no recibe los errores para cada medición, puede suponer que la cifra menos significativa se ha redondeado y, por lo tanto, $σ ≥ 1$. O puede suponer que las mediciones astronómicas son difíciles de realizar y que hay al menos 10 % de errores en los datos."
   ]
  },
  {
   "cell_type": "markdown",
   "metadata": {},
   "source": [
    "c) Calcule un ajuste de línea recta de mínimos cuadrados a estos datos."
   ]
  },
  {
   "cell_type": "code",
   "execution_count": 17,
   "metadata": {},
   "outputs": [],
   "source": [
    "def Mincu(dat):\n",
    "    n = len(dat[:,0])\n",
    "    err = sqrt(n)\n",
    "    \n",
    "    s = 0\n",
    "    sx = 0\n",
    "    sy = 0\n",
    "    sxx = 0\n",
    "    sxy = 0\n",
    "    delta = 0\n",
    "\n",
    "    for i in range(n):\n",
    "        s += 1/(err*err)\n",
    "        sx += dat[i,0]\n",
    "        sy += (dat[i,1])\n",
    "        sxx += (dat[i,0]*dat[i,0] )   \n",
    "        sxy += (dat[i,0]*(dat[i,1]) )\n",
    "     \n",
    "    \n",
    "    sx /= (err*err)\n",
    "    sy /= (err*err)\n",
    "    sxx /= (err*err)\n",
    "    sxy /= (err*err)\n",
    "\n",
    "    delta = s*sxx - (sx*sx)\n",
    "    \n",
    "    vb=sxx/delta #varianza del intercepto\n",
    "    vp=s/delta   #varianza de la pendiente\n",
    "\n",
    "    b = (sxx*sy - sx*sxy) / delta  #intercepto\n",
    "    p = (s*sxy - sx*sy) / delta    #pendiente\n",
    "    \n",
    "    return p,b,vp,vb"
   ]
  },
  {
   "cell_type": "code",
   "execution_count": 19,
   "metadata": {},
   "outputs": [
    {
     "name": "stdout",
     "output_type": "stream",
     "text": [
      "H= 454.15844092262836 [km/s/mps]\n",
      "b= -40.783649095860476\n"
     ]
    }
   ],
   "source": [
    "p,b,vp,vb=Mincu(data)\n",
    "\n",
    "print(\"H=\",p,\"[km/s/mps]\")\n",
    "print(\"b=\",b,)\n",
    "\n",
    "Y = [(p*i+b) for i in data[:,0]]\n"
   ]
  },
  {
   "cell_type": "markdown",
   "metadata": {},
   "source": [
    "d) Trace su mejor $a + Hr$ en la curva con los datos."
   ]
  },
  {
   "cell_type": "code",
   "execution_count": 21,
   "metadata": {},
   "outputs": [
    {
     "data": {
      "image/png": "[encoded data removed]",
      "text/plain": [
       "<Figure size 432x288 with 1 Axes>"
      ]
     },
     "metadata": {
      "needs_background": "light"
     },
     "output_type": "display_data"
    }
   ],
   "source": [
    "plt.plot(data[:,0], data[:,1], 'o', label=\"V(r)\")\n",
    "plt.plot(data[:,0], Y, 'y-', label=\"ajuste\")\n",
    "plt.title('Regresion lineal del modelo')\n",
    "plt.xlabel('radio [Mpc]')\n",
    "plt.ylabel('velocidad [km/s]')\n",
    "plt.show()"
   ]
  },
  {
   "cell_type": "markdown",
   "metadata": {},
   "source": [
    "e) Después de ajustar los datos, calcule la varianza y compárela con la desviación de su ajuste de los datos. Verifique que aproximadamente un tercio de los puntos pierdan la banda de error σ (eso es lo que se espera para una distribución normal de errores)."
   ]
  },
  {
   "cell_type": "code",
   "execution_count": 22,
   "metadata": {},
   "outputs": [
    {
     "name": "stdout",
     "output_type": "stream",
     "text": [
      "varianza= 51888.79853357131\n"
     ]
    }
   ],
   "source": [
    "n=len(data[:,1])\n",
    "v=0\n",
    "for i in range (n): \n",
    "    v +=((data[i,1]-Y[i])**2)\n",
    "v=v/(n-1)\n",
    "print(\"varianza=\",v)"
   ]
  },
  {
   "cell_type": "markdown",
   "metadata": {},
   "source": [
    "f) Use su varianza calculada para determinar el $\\chi ^{2}$ del ajuste. Comenta sobre el valor obtenido."
   ]
  },
  {
   "cell_type": "code",
   "execution_count": 28,
   "metadata": {},
   "outputs": [
    {
     "name": "stdout",
     "output_type": "stream",
     "text": [
      "X^2= 0.0004432555898383219\n"
     ]
    }
   ],
   "source": [
    "zhi=0\n",
    "for i in range (n): \n",
    "    zhi +=(((data[i,1]-Y[i]))/v)**2\n",
    "\n",
    "print(\"X^2=\",zhi)"
   ]
  },
  {
   "cell_type": "markdown",
   "metadata": {},
   "source": [
    "g) Determine las varianzas $\\sigma _{a}$ y $\\sigma _{b}$ y verifique si tiene sentido usarlas como errores en los valores deducidos para a y b."
   ]
  },
  {
   "cell_type": "code",
   "execution_count": 30,
   "metadata": {},
   "outputs": [
    {
     "name": "stdout",
     "output_type": "stream",
     "text": [
      "varianza de p= 2.504359248142834\n",
      "varianza de b= 3.0801317872097638\n"
     ]
    }
   ],
   "source": [
    "print(\"varianza de p=\", vp )\n",
    "print(\"varianza de b=\", vb )"
   ]
  },
  {
   "cell_type": "markdown",
   "metadata": {},
   "source": [
    "h) Ahora que tiene un ajuste, mire nuevamente los datos y calcule cuál podría ser un mejor valor para los errores en las ordenadas."
   ]
  },
  {
   "cell_type": "code",
   "execution_count": null,
   "metadata": {},
   "outputs": [],
   "source": []
  }
 ],
 "metadata": {
  "kernelspec": {
   "display_name": "Python 3",
   "language": "python",
   "name": "python3"
  },
  "language_info": {
   "codemirror_mode": {
    "name": "ipython",
    "version": 3
   },
   "file_extension": ".py",
   "mimetype": "text/x-python",
   "name": "python",
   "nbconvert_exporter": "python",
   "pygments_lexer": "ipython3",
   "version": "3.5.2"
  }
 },
 "nbformat": 4,
 "nbformat_minor": 2
}

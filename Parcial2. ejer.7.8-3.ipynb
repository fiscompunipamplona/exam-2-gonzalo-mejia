{
 "cells": [
  {
   "cell_type": "markdown",
   "metadata": {},
   "source": [
    "# Sección 7.8\n",
    "\n",
    "EJERCICIO 3.\n",
    "\n",
    "En 1929, Edwin Hubble examinó los datos que relacionan la velocidad radial v de 24 nebulosas galácticas con su distancia r de nuestra galaxia . Aunque hubo una dispersión considerable en los datos, los ajustó con una línea recta:\n",
    "\n",
    "\\begin{equation}\n",
    "v=Hr\n",
    "\\end{equation}\n",
    "\n",
    "Donde H se llama la constante de Hubble. \n",
    "\n",
    "La siguiente tabla contiene las distancias y velocidades utilizadas por Hubble.\n",
    "\n",
    "<img src=\"metodos3.png\"> \n",
    "\n",
    "En la tabla podemos observar la distancia vs. velocidad radial para 24 nebulosas extragalácticas.\n",
    "\n"
   ]
  },
  {
   "cell_type": "markdown",
   "metadata": {},
   "source": [
    "a) Graficar los datos para verificar la adecuación de una relación lineal.\n",
    "\n",
    "\\begin{equation}\n",
    "v(r)\\simeq  a + Hr\n",
    "\\end{equation}\n",
    "\n"
   ]
  },
  {
   "cell_type": "markdown",
   "metadata": {},
   "source": [
    "Primero procedimos a sacar los datos de la tabla y los guardamos en un archivo txt, esto con el objetivo de llamarlos para luego ser graficados"
   ]
  },
  {
   "cell_type": "code",
   "execution_count": 1,
   "metadata": {},
   "outputs": [],
   "source": [
    "from numpy import loadtxt, log, sqrt\n",
    "import matplotlib.pyplot as plt\n",
    "from matplotlib.pyplot import legend\n",
    "import numpy as np\n",
    "from pylab import imshow, figure, title\n",
    "from pylab import plot, show, legend, xlabel, ylabel, title, grid"
   ]
  },
  {
   "cell_type": "code",
   "execution_count": 6,
   "metadata": {},
   "outputs": [],
   "source": [
    "data = open(\"Hubble.txt\") # abro el archivo donde está el valor de la distancia en la primera \n",
    "#columna  y el valor de la velocidad radial en la segunda columna\n"
   ]
  },
  {
   "cell_type": "code",
   "execution_count": 3,
   "metadata": {},
   "outputs": [],
   "source": [
    "#creacion de posiciones para r y v\n",
    "\n",
    "r=[] #tiempo\n",
    "v=[] # decaimiento\n",
    "\n",
    "# lectura de los datos de pion_decay_rubin\n",
    "for line in data:\n",
    "    rline = line.rstrip('\\n').split()\n",
    "    if len(rline) == 2:\n",
    "        if rline[0] != \"//\":\n",
    "            r.append(float(rline[0]))\n",
    "            v.append(float(rline[1]))\n",
    "\n",
    "# vuelvo la lista un arreglo para mejor  manipulación\n",
    "r = np.array(r)\n",
    "v = np.array(v)"
   ]
  },
  {
   "cell_type": "code",
   "execution_count": 4,
   "metadata": {},
   "outputs": [
    {
     "data": {
      "image/png": "[encoded data removed]",
      "text/plain": [
       "<Figure size 432x288 with 1 Axes>"
      ]
     },
     "metadata": {
      "needs_background": "light"
     },
     "output_type": "display_data"
    }
   ],
   "source": [
    "plt.plot(v,r,'o')\n",
    "plt.ylabel('velocidad [km/s]')\n",
    "plt.title('Distancia vs velocidad radial')\n",
    "plt.xlabel('radio [Mpc]')\n",
    "plt.show()"
   ]
  },
  {
   "cell_type": "markdown",
   "metadata": {},
   "source": [
    "En la grafica anterior (Distancia vs Velocidad radial) podemos observar que los datos son muy dispersos, por esta razon no seria muy adecuado una relación lineal."
   ]
  },
  {
   "cell_type": "markdown",
   "metadata": {},
   "source": [
    "b) Debido a que no recibe los errores para cada medición, puede suponer que la cifra menos significativa se ha redondeado y, por lo tanto, $σ ≥ 1$. O puede suponer que las mediciones astronómicas son difíciles de realizar y que hay al menos 10 % de errores en los datos."
   ]
  },
  {
   "cell_type": "markdown",
   "metadata": {},
   "source": [
    "c) Calcule un ajuste de línea recta de mínimos cuadrados a estos datos."
   ]
  },
  {
   "cell_type": "markdown",
   "metadata": {},
   "source": [
    "d) Trace su mejor $a + Hr$ en la curva con los datos."
   ]
  },
  {
   "cell_type": "markdown",
   "metadata": {},
   "source": [
    "e) Después de ajustar los datos, calcule la varianza y compárela con la desviación de su ajuste de los datos. Verifique que aproximadamente un tercio de los puntos pierdan la banda de error σ (eso es lo que se espera para una distribución normal de errores)."
   ]
  },
  {
   "cell_type": "markdown",
   "metadata": {},
   "source": [
    "f) Use su varianza calculada para determinar el $\\chi ^{2}$ del ajuste. Comenta sobre el valor obtenido."
   ]
  },
  {
   "cell_type": "markdown",
   "metadata": {},
   "source": [
    "g) Determine las varianzas $\\sigma _{a}$ y $\\sigma _{b}$ y verifique si tiene sentido usarlas como errores en los valores deducidos para a y b."
   ]
  },
  {
   "cell_type": "markdown",
   "metadata": {},
   "source": [
    "h) Ahora que tiene un ajuste, mire nuevamente los datos y calcule cuál podría ser un mejor valor para los errores en las ordenadas."
   ]
  },
  {
   "cell_type": "code",
   "execution_count": null,
   "metadata": {},
   "outputs": [],
   "source": []
  }
 ],
 "metadata": {
  "kernelspec": {
   "display_name": "Python 3",
   "language": "python",
   "name": "python3"
  },
  "language_info": {
   "codemirror_mode": {
    "name": "ipython",
    "version": 3
   },
   "file_extension": ".py",
   "mimetype": "text/x-python",
   "name": "python",
   "nbconvert_exporter": "python",
   "pygments_lexer": "ipython3",
   "version": "3.5.2"
  }
 },
 "nbformat": 4,
 "nbformat_minor": 2
}
